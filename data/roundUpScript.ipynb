{
 "cells": [
  {
   "cell_type": "code",
   "execution_count": 70,
   "metadata": {},
   "outputs": [],
   "source": [
    "import json\n",
    "import pandas as pd\n",
    "\n",
    "def round_up(n, decimals=0):\n",
    "    multiplier = 10 ** decimals\n",
    "    return math.ceil(n * multiplier) / multiplier\n"
   ]
  },
  {
   "cell_type": "code",
   "execution_count": 89,
   "metadata": {},
   "outputs": [],
   "source": [
    "import io\n",
    "\n",
    "with io.open('periodic_table.json','r', encoding=\"utf-8\") as json_file:\n",
    "    json_decoded = json.load(json_file)\n",
    "\n",
    "for a in range(len(json_decoded)):\n",
    "    json_decoded[a]['atomic_weight1']= round_up(json_decoded[a]['atomic_weight'],2)\n",
    "\n",
    "with io.open('periodic_table_adjustedWeights.json', 'w',encoding=\"utf-8\") as json_file:\n",
    "    json_file.write(unicode(json.dumps(json_decoded, ensure_ascii=False, indent =4)))   "
   ]
  },
  {
   "cell_type": "code",
   "execution_count": null,
   "metadata": {},
   "outputs": [],
   "source": []
  }
 ],
 "metadata": {
  "kernelspec": {
   "display_name": "Python 2",
   "language": "python",
   "name": "python2"
  },
  "language_info": {
   "codemirror_mode": {
    "name": "ipython",
    "version": 2
   },
   "file_extension": ".py",
   "mimetype": "text/x-python",
   "name": "python",
   "nbconvert_exporter": "python",
   "pygments_lexer": "ipython2",
   "version": "2.7.15"
  }
 },
 "nbformat": 4,
 "nbformat_minor": 2
}
