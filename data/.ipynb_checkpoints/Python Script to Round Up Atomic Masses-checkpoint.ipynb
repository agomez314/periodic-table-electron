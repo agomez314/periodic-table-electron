{
 "cells": [
  {
   "cell_type": "code",
   "execution_count": 7,
   "metadata": {},
   "outputs": [],
   "source": [
    "import csv\n",
    "import pandas as pd\n",
    "import math\n",
    "import numpy as np\n",
    "\n",
    "def round_up(n, decimals=0):\n",
    "    multiplier = 10 ** decimals\n",
    "    return math.ceil(n * multiplier) / multiplier"
   ]
  },
  {
   "cell_type": "code",
   "execution_count": 11,
   "metadata": {},
   "outputs": [],
   "source": [
    "df = pd.read_json('periodic_table.json', orient = 'records', dtype={\"iso\":str, \"melting_point\":float,\"when_liquid_at_bp\": float,  \"thermal_conductivity\": float, \"recognised_as_an_element_by\": str,\"crystal_structure\": str,\n",
    "        \"atomic_weight\": float,\n",
    "        \"electron_configuration\": str,\n",
    "        \"atomic_number\": int,\n",
    "        \"triple_point\": float,\n",
    "        \"color\": str,\n",
    "        \"named_by\": str,\n",
    "        \"symbol\": str,\n",
    "        \"name_symbol\": str,\n",
    "        \"density_at_stp\": float,\n",
    "        \"boiling_point\": float,\n",
    "        \"cas_number\": str,\n",
    "        \"heat_of_vaporization\": float,\n",
    "        \"allotropes\": str,\n",
    "        \"p_(pa)\": str,\n",
    "        \"ionisation_energies\": str,\n",
    "        \"pronunciation\": str,\n",
    "        \"brinell_hardness\": str,\n",
    "        \"bulk_modulus\": str,\n",
    "        \"alternative_names\": str,\n",
    "        \"density_when_liquid_at_mp\": str,\n",
    "        \"speed_of_sound_thin_rod\": str,\n",
    "        \"covalent_radius\": str,\n",
    "        \"magnetic_ordering\": str,\n",
    "        \"molar_volume\": str,\n",
    "        \"thermal_diffusivity\": str,\n",
    "        \"oxidation_states\": str,\n",
    "        \"prediction\": str,\n",
    "        \"electronegativity\": str,\n",
    "        \"van_der_waals_radius\": int,\n",
    "        \"ionization_energies\": str,\n",
    "        \"number\": int,\n",
    "        \"tensile_strength\": str,\n",
    "        \"group_block\": str,\n",
    "        \"recognized_as_a_unique_metal_by\": str,\n",
    "        \"per_shell\": str,\n",
    "        \"density_near_rt\": str,\n",
    "        \"molar_heat_capacity\": str,\n",
    "        \"element_category\": str,\n",
    "        \"heat_of_fusion\": str,\n",
    "        \"critical_point\": str,\n",
    "        \"period\": str,\n",
    "        \"speed_of_sound\": str,\n",
    "        \"heat_of_vaporisation\": str,\n",
    "        \"thermal_expansion\": str,\n",
    "        \"proposed_formal_name\": str,\n",
    "        \"youngs_modulus\": str,\n",
    "        \"poisson_ratio\": str,\n",
    "        \"band_gap\": str,\n",
    "        \"at_t_(k)\": str,\n",
    "        \"sublimation_point\": str,\n",
    "        \"recognized_as_an_element_by\": str,\n",
    "        \"electrical_resistivity\": str,\n",
    "        \"when_liquid_at_mp\": str,\n",
    "        \"mohs_hardness\": str,\n",
    "        \"shear_modulus\": str,\n",
    "        \"atomic_radius\": str,\n",
    "        \"naming\": str,\n",
    "        \"discovery_and_first_isolation\": str,\n",
    "        \"recognized_as_a_distinct_element_by\": str,\n",
    "        \"first_isolation\": str,\n",
    "        \"curie_point\": str,\n",
    "        \"name\": str,\n",
    "        \"discovery\": str,\n",
    "        \"phase\": str,\n",
    "        \"vickers_hardness\": str,\n",
    "        \"alternative_name\": str,\n",
    "        \"appearance\": str})"
   ]
  },
  {
   "cell_type": "code",
   "execution_count": 13,
   "metadata": {},
   "outputs": [],
   "source": [
    "df['atomic_weight_2'] = df.apply(lambda row: round_up(row['atomic_weight'],2), axis=1)"
   ]
  },
  {
   "cell_type": "code",
   "execution_count": 14,
   "metadata": {},
   "outputs": [],
   "source": [
    "df.to_json('periodicTable_roundedAM.json')"
   ]
  },
  {
   "cell_type": "code",
   "execution_count": null,
   "metadata": {},
   "outputs": [],
   "source": []
  }
 ],
 "metadata": {
  "kernelspec": {
   "display_name": "Python 2",
   "language": "python",
   "name": "python2"
  },
  "language_info": {
   "codemirror_mode": {
    "name": "ipython",
    "version": 2
   },
   "file_extension": ".py",
   "mimetype": "text/x-python",
   "name": "python",
   "nbconvert_exporter": "python",
   "pygments_lexer": "ipython2",
   "version": "2.7.15"
  }
 },
 "nbformat": 4,
 "nbformat_minor": 2
}
